{
 "cells": [
  {
   "cell_type": "code",
   "execution_count": 1,
   "source": [
    "#BY:MAKAYLA JEAN-BAPTISTE\n",
    "#rename numpy \n",
    "import numpy as np"
   ],
   "outputs": [],
   "metadata": {}
  },
  {
   "cell_type": "code",
   "execution_count": 25,
   "source": [
    "# question 1 Creating matrices \n",
    "mat1= np.array([[2,-14,8],[2,5,3]])\n",
    "mat2= np.array([[8,5,1],[6,10,-3]])\n",
    "print(mat1)\n",
    "print(mat2)"
   ],
   "outputs": [
    {
     "output_type": "stream",
     "name": "stdout",
     "text": [
      "[[  2 -14   8]\n",
      " [  2   5   3]]\n",
      "[[ 8  5  1]\n",
      " [ 6 10 -3]]\n"
     ]
    }
   ],
   "metadata": {}
  },
  {
   "cell_type": "code",
   "execution_count": 26,
   "source": [
    "# solution of  matrices \n",
    "sol=np.multiply(mat1,mat2)\n",
    "print(sol)"
   ],
   "outputs": [
    {
     "output_type": "stream",
     "name": "stdout",
     "text": [
      "[[ 16 -70   8]\n",
      " [ 12  50  -9]]\n"
     ]
    }
   ],
   "metadata": {}
  },
  {
   "cell_type": "code",
   "execution_count": 27,
   "source": [
    "#question 2 scalar product of a constant and matrix"
   ],
   "outputs": [],
   "metadata": {}
  },
  {
   "cell_type": "code",
   "execution_count": 28,
   "source": [
    "#multipling matrix by -2\n",
    "array1=np.array([[-5,2,4],[6,10,-3],[-12,7,-2]])\n",
    "n=-2\n",
    "print(array1)"
   ],
   "outputs": [
    {
     "output_type": "stream",
     "name": "stdout",
     "text": [
      "[[ -5   2   4]\n",
      " [  6  10  -3]\n",
      " [-12   7  -2]]\n"
     ]
    }
   ],
   "metadata": {}
  },
  {
   "cell_type": "code",
   "execution_count": 29,
   "source": [
    "#solution\n",
    "sol=np.multiply(array1,n)\n",
    "print(sol)"
   ],
   "outputs": [
    {
     "output_type": "stream",
     "name": "stdout",
     "text": [
      "[[ 10  -4  -8]\n",
      " [-12 -20   6]\n",
      " [ 24 -14   4]]\n"
     ]
    }
   ],
   "metadata": {}
  },
  {
   "cell_type": "code",
   "execution_count": 30,
   "source": [
    "# question 3 fid the determinant"
   ],
   "outputs": [],
   "metadata": {}
  },
  {
   "cell_type": "code",
   "execution_count": 31,
   "source": [
    "#create matrices\n",
    "array1= np.array([[2, -14,8],[2,5,3],[5,10,6]])\n",
    "array2= np.array([[8,5,7,9],[-2,12,6,6],[7,15,2,3],[5,-7,1,4]])\n",
    "print(array1)\n",
    "print(array2)"
   ],
   "outputs": [
    {
     "output_type": "stream",
     "name": "stdout",
     "text": [
      "[[  2 -14   8]\n",
      " [  2   5   3]\n",
      " [  5  10   6]]\n",
      "[[ 8  5  7  9]\n",
      " [-2 12  6  6]\n",
      " [ 7 15  2  3]\n",
      " [ 5 -7  1  4]]\n"
     ]
    }
   ],
   "metadata": {}
  },
  {
   "cell_type": "code",
   "execution_count": 32,
   "source": [
    "#calculating the determinant of matrix\n",
    "det1=(np.linalg.det(array1))\n",
    "det2=(np.linalg.det(array2))\n",
    "print(int(det1))\n",
    "print(det2)"
   ],
   "outputs": [
    {
     "output_type": "stream",
     "name": "stdout",
     "text": [
      "-81\n",
      "-2026.0\n"
     ]
    }
   ],
   "metadata": {}
  }
 ],
 "metadata": {
  "orig_nbformat": 4,
  "language_info": {
   "name": "python",
   "version": "3.9.5",
   "mimetype": "text/x-python",
   "codemirror_mode": {
    "name": "ipython",
    "version": 3
   },
   "pygments_lexer": "ipython3",
   "nbconvert_exporter": "python",
   "file_extension": ".py"
  },
  "kernelspec": {
   "name": "python3",
   "display_name": "Python 3.9.5 64-bit"
  },
  "interpreter": {
   "hash": "aee8b7b246df8f9039afb4144a1f6fd8d2ca17a180786b69acc140d282b71a49"
  }
 },
 "nbformat": 4,
 "nbformat_minor": 2
}