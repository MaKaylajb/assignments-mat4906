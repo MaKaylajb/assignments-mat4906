{
 "cells": [
  {
   "cell_type": "code",
   "execution_count": 1,
   "source": [
    "#By:makayla jean-baptiste\n",
    "#rename numpy\n",
    "import numpy as np"
   ],
   "outputs": [],
   "metadata": {}
  },
  {
   "cell_type": "code",
   "execution_count": 3,
   "source": [
    "#question 1 12x+3y=162 and 8x3y=122\n",
    "A= np.array([[12,3],[8,3]])\n",
    "B= np.array([[162],[122]])"
   ],
   "outputs": [],
   "metadata": {}
  },
  {
   "cell_type": "code",
   "execution_count": 4,
   "source": [
    "#verify the size of the matrices and right hand side vector\n",
    "print('dim. of matrix A = ', A.shape)\n",
    "print('dim. of vector B = ', B.shape)"
   ],
   "outputs": [
    {
     "output_type": "stream",
     "name": "stdout",
     "text": [
      "dim. of matrix A =  (2, 2)\n",
      "dim. of vector B =  (2, 1)\n"
     ]
    }
   ],
   "metadata": {}
  },
  {
   "cell_type": "code",
   "execution_count": 5,
   "source": [
    "#find the det(A)!=0\n",
    "np.linalg.det(A)"
   ],
   "outputs": [
    {
     "output_type": "execute_result",
     "data": {
      "text/plain": [
       "12.0"
      ]
     },
     "metadata": {},
     "execution_count": 5
    }
   ],
   "metadata": {}
  },
  {
   "cell_type": "code",
   "execution_count": 6,
   "source": [
    "#find inverse of A\n",
    "inv_A = np.linalg.inv(A)\n",
    "print(inv_A)"
   ],
   "outputs": [
    {
     "output_type": "stream",
     "name": "stdout",
     "text": [
      "[[ 0.25       -0.25      ]\n",
      " [-0.66666667  1.        ]]\n"
     ]
    }
   ],
   "metadata": {}
  },
  {
   "cell_type": "code",
   "execution_count": 7,
   "source": [
    "#finding solution\n",
    "sol= inv_A.dot(B)\n",
    "print(sol)"
   ],
   "outputs": [
    {
     "output_type": "stream",
     "name": "stdout",
     "text": [
      "[[10.]\n",
      " [14.]]\n"
     ]
    }
   ],
   "metadata": {}
  },
  {
   "cell_type": "code",
   "execution_count": 8,
   "source": [
    "#question 2 x+y=6 and 6x+3y=30\n",
    "A= np.array([[1,1],[6,3]])\n",
    "B= np.array([[6],[30]])"
   ],
   "outputs": [],
   "metadata": {}
  },
  {
   "cell_type": "code",
   "execution_count": 9,
   "source": [
    "#verify the size of the matrices and right hand side vector\n",
    "print('dim. of matrix A = ', A.shape)\n",
    "print('dim. of vector B = ', B.shape)\n"
   ],
   "outputs": [
    {
     "output_type": "stream",
     "name": "stdout",
     "text": [
      "dim. of matrix A =  (2, 2)\n",
      "dim. of vector B =  (2, 1)\n"
     ]
    }
   ],
   "metadata": {}
  },
  {
   "cell_type": "code",
   "execution_count": 10,
   "source": [
    "#find the det(A)!=0\n",
    "np.linalg.det(A)"
   ],
   "outputs": [
    {
     "output_type": "execute_result",
     "data": {
      "text/plain": [
       "-2.9999999999999996"
      ]
     },
     "metadata": {},
     "execution_count": 10
    }
   ],
   "metadata": {}
  },
  {
   "cell_type": "code",
   "execution_count": 11,
   "source": [
    "#find inverse of A\n",
    "inv_A = np.linalg.inv(A)\n",
    "print(inv_A)"
   ],
   "outputs": [
    {
     "output_type": "stream",
     "name": "stdout",
     "text": [
      "[[-1.          0.33333333]\n",
      " [ 2.         -0.33333333]]\n"
     ]
    }
   ],
   "metadata": {}
  },
  {
   "cell_type": "code",
   "execution_count": 12,
   "source": [
    "#finding solution\n",
    "sol= inv_A.dot(B)\n",
    "print(sol)"
   ],
   "outputs": [
    {
     "output_type": "stream",
     "name": "stdout",
     "text": [
      "[[4.]\n",
      " [2.]]\n"
     ]
    }
   ],
   "metadata": {}
  },
  {
   "cell_type": "code",
   "execution_count": 13,
   "source": [
    "#question3 x+y+z=12000, -y+z=4000, 0.03x+0.04y+0.07z=670\n",
    "'dtype=object'\n",
    "A= np.array([[1,1,1],[-1,1,0],[0.03,0.04,0.07]])\n",
    "B=  np.array ([[12000],[4000],[670]])"
   ],
   "outputs": [],
   "metadata": {}
  },
  {
   "cell_type": "code",
   "execution_count": 14,
   "source": [
    "#verify the size of the matrices and right hand side vector\n",
    "print('dim. of matrix A = ', A.shape)\n",
    "print('dim. of vector B = ', B.shape)\n"
   ],
   "outputs": [
    {
     "output_type": "stream",
     "name": "stdout",
     "text": [
      "dim. of matrix A =  (3, 3)\n",
      "dim. of vector B =  (3, 1)\n"
     ]
    }
   ],
   "metadata": {}
  },
  {
   "cell_type": "code",
   "execution_count": 15,
   "source": [
    "#find the det(A)!=0\n",
    "np.linalg.det(A)"
   ],
   "outputs": [
    {
     "output_type": "execute_result",
     "data": {
      "text/plain": [
       "0.07"
      ]
     },
     "metadata": {},
     "execution_count": 15
    }
   ],
   "metadata": {}
  },
  {
   "cell_type": "code",
   "execution_count": 16,
   "source": [
    "#find inverse of A\n",
    "inv_A = np.linalg.inv(A)\n",
    "print(inv_A)"
   ],
   "outputs": [
    {
     "output_type": "stream",
     "name": "stdout",
     "text": [
      "[[  1.          -0.42857143 -14.28571429]\n",
      " [  1.           0.57142857 -14.28571429]\n",
      " [ -1.          -0.14285714  28.57142857]]\n"
     ]
    }
   ],
   "metadata": {}
  }
 ],
 "metadata": {
  "orig_nbformat": 4,
  "language_info": {
   "name": "python",
   "version": "3.9.5",
   "mimetype": "text/x-python",
   "codemirror_mode": {
    "name": "ipython",
    "version": 3
   },
   "pygments_lexer": "ipython3",
   "nbconvert_exporter": "python",
   "file_extension": ".py"
  },
  "kernelspec": {
   "name": "python3",
   "display_name": "Python 3.9.5 64-bit"
  },
  "interpreter": {
   "hash": "aee8b7b246df8f9039afb4144a1f6fd8d2ca17a180786b69acc140d282b71a49"
  }
 },
 "nbformat": 4,
 "nbformat_minor": 2
}